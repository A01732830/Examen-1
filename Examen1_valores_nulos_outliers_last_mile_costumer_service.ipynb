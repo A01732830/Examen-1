{
  "nbformat": 4,
  "nbformat_minor": 0,
  "metadata": {
    "colab": {
      "provenance": [],
      "authorship_tag": "ABX9TyOh5BYK016eXhfsKlI5I0KK",
      "include_colab_link": true
    },
    "kernelspec": {
      "name": "python3",
      "display_name": "Python 3"
    },
    "language_info": {
      "name": "python"
    }
  },
  "cells": [
    {
      "cell_type": "markdown",
      "metadata": {
        "id": "view-in-github",
        "colab_type": "text"
      },
      "source": [
        "<a href=\"https://colab.research.google.com/github/A01732830/Examen-1/blob/main/Examen1_valores_nulos_outliers_last_mile_costumer_service.ipynb\" target=\"_parent\"><img src=\"https://colab.research.google.com/assets/colab-badge.svg\" alt=\"Open In Colab\"/></a>"
      ]
    },
    {
      "cell_type": "code",
      "execution_count": 1,
      "metadata": {
        "id": "wZQYEKy_wYuP"
      },
      "outputs": [],
      "source": [
        "#Importamos librerias requeridas\n",
        "import pandas as pd\n",
        "import numpy as np\n",
        "import matplotlib.pyplot as plt"
      ]
    },
    {
      "cell_type": "code",
      "source": [
        "#Cargar archivo .cvs sin indice\n",
        "from google.colab import files #orden que hace que el código busque el documento en la computadora\n",
        "files.upload()"
      ],
      "metadata": {
        "id": "G9_D1gtF6OvG"
      },
      "execution_count": null,
      "outputs": []
    },
    {
      "cell_type": "code",
      "source": [
        "#Carga desde un archivo .csv sin indice \n",
        "last_mile_customer=pd.read_csv(\"lastmile_delivery_operations_mit_lift_lab_serving_customer.csv\")\n",
        "#carga el documento y se le asigna a una variable con el que se identifica sin un nombre tan grande"
      ],
      "metadata": {
        "id": "eTfzbt0m6h8C"
      },
      "execution_count": 4,
      "outputs": []
    },
    {
      "cell_type": "code",
      "source": [
        "#Verificamos información del DataFrame\n",
        "last_mile_customer.info() #muestra toda la estructura de los datos del documento"
      ],
      "metadata": {
        "id": "3iOoAnA266Ld"
      },
      "execution_count": null,
      "outputs": []
    },
    {
      "cell_type": "code",
      "source": [
        "#Carga desde archivo .csv sin indice\n",
        "last_mile_customer=pd.read_csv(\"lastmile_delivery_operations_mit_lift_lab_serving_customer.csv\")\n",
        "last_mile_customer.head() #te deja ver los primeros elementos del documento ya con forma de filas y columnas como excel"
      ],
      "metadata": {
        "id": "z8BrOnd67h6H"
      },
      "execution_count": null,
      "outputs": []
    },
    {
      "cell_type": "code",
      "source": [
        "#Corroboramos valores nulos\n",
        "valores_nulos=last_mile_customer.isnull().sum()\n",
        "valores_nulos #te muestra las columnas que tienen datos nulos y la cantidad"
      ],
      "metadata": {
        "id": "ftXziHie9Cpi"
      },
      "execution_count": null,
      "outputs": []
    },
    {
      "cell_type": "code",
      "source": [
        "#Realizamos una copia del dataframe\n",
        "data2=last_mile_customer.copy()"
      ],
      "metadata": {
        "id": "xjHO7cZNb1DM"
      },
      "execution_count": 21,
      "outputs": []
    },
    {
      "cell_type": "markdown",
      "source": [
        "**Quitar valores nulos (se usaran dos métodos para quitarlos)**"
      ],
      "metadata": {
        "id": "buyAlvOKZyrb"
      }
    },
    {
      "cell_type": "code",
      "source": [
        "#Método de sustitución de valores nulos\n",
        "#Sustituir valores nulos por un valor numérico en concreto \n",
        "data2[\"picture_cargo_being_delivered\"]=data2[\"picture_cargo_being_delivered\"].fillna(\"picture_cargo_being_delivered\")\n",
        "data2 #se usa un método de sustitución que quita los valores nulos y los rellena"
      ],
      "metadata": {
        "id": "3C1HO0sdZ1u9"
      },
      "execution_count": null,
      "outputs": []
    },
    {
      "cell_type": "code",
      "source": [
        "#Corroboramos valores nulos\n",
        "valores_nulos=data2.isnull().sum()\n",
        "valores_nulos #se corrobora que haya quitado los nulos de la columna anterior"
      ],
      "metadata": {
        "id": "XP57a8NDcJPe"
      },
      "execution_count": null,
      "outputs": []
    },
    {
      "cell_type": "code",
      "source": [
        "#Método de sustitución de valores nulos\n",
        "#Sustituir valores nulos por un valor numérico o string en concreto \n",
        "data2[\"picture_cargo_being_delivered_captions\"]=data2[\"picture_cargo_being_delivered_captions\"].fillna(\"picture_cargo_being_delivered\")\n",
        "data2"
      ],
      "metadata": {
        "id": "kGCuZb3Ld01K"
      },
      "execution_count": null,
      "outputs": []
    },
    {
      "cell_type": "code",
      "source": [
        "#Corroboramos valores nulos\n",
        "valores_nulos=data2.isnull().sum()\n",
        "valores_nulos"
      ],
      "metadata": {
        "id": "CAEr9o4Od8W8"
      },
      "execution_count": null,
      "outputs": []
    },
    {
      "cell_type": "code",
      "source": [
        "#Tercer método de sustitución de valores nulos\n",
        "#Sustituir valores nulos por un valor numérico en concreto\n",
        "data2[\"picture_cargo_being_delivered_urls\"]=data2[\"picture_cargo_being_delivered_urls\"].fillna(\"picture_cargo_being_delivered_urls\")\n",
        "data2"
      ],
      "metadata": {
        "id": "MG8i-wP2eIN1"
      },
      "execution_count": null,
      "outputs": []
    },
    {
      "cell_type": "code",
      "source": [
        "#Corroboramos valores nulos\n",
        "valores_nulos=data2.isnull().sum()\n",
        "valores_nulos"
      ],
      "metadata": {
        "id": "mCrVrcnTePJl"
      },
      "execution_count": null,
      "outputs": []
    },
    {
      "cell_type": "code",
      "source": [
        "#Corroboramos valores nulos\n",
        "valores_nulos=data2.isnull().sum().sum()\n",
        "valores_nulos #se usa para poder corrobar que ya no haya ningún valor nulo en ninguna de las columnas"
      ],
      "metadata": {
        "colab": {
          "base_uri": "https://localhost:8080/"
        },
        "id": "EWW7RyAHfTMr",
        "outputId": "b284848f-d904-4a55-9f73-6e126fd936f6"
      },
      "execution_count": 37,
      "outputs": [
        {
          "output_type": "execute_result",
          "data": {
            "text/plain": [
              "0"
            ]
          },
          "metadata": {},
          "execution_count": 37
        }
      ]
    },
    {
      "cell_type": "markdown",
      "source": [
        "**Procedimiento \"Cuantiles\" para sustituir outliers en dataframe**"
      ],
      "metadata": {
        "id": "SPcyQ_BngDjc"
      }
    },
    {
      "cell_type": "code",
      "source": [
        "#Realizamos diagrama de caja o bigote de cada columna del dataframe\n",
        "fig=plt.figure(figsize=(15,8)) #muestra el tamaño en que se muestra la imagen\n",
        "data2.plot(kind=\"box\",vert=False) #genera la caja o bigote y la grafica de todas las columnas que contengan valores atípicos\n",
        "plt.title(\"Valores atípicos del DataFrame\") # pone el título a la gráfica\n",
        "plt.show() #dibujamos el diagrama"
      ],
      "metadata": {
        "colab": {
          "base_uri": "https://localhost:8080/",
          "height": 298
        },
        "id": "r6vsjmUAh2Q0",
        "outputId": "a6b93d5e-4e12-418b-a653-3a7ef31d0eb5"
      },
      "execution_count": 38,
      "outputs": [
        {
          "output_type": "display_data",
          "data": {
            "text/plain": [
              "<Figure size 1080x576 with 0 Axes>"
            ]
          },
          "metadata": {}
        },
        {
          "output_type": "display_data",
          "data": {
            "text/plain": [
              "<Figure size 432x288 with 1 Axes>"
            ],
            "image/png": "[encoded data removed]"
          },
          "metadata": {
            "needs_background": "light"
          }
        }
      ]
    },
    {
      "cell_type": "code",
      "source": [
        "#Método aplicando Cuartiles. Encuentro cuartiles 0.25 y 0.75 \n",
        "y=data2[\"number_of_cases_boxes_delivered\"] #llama a la columna a la que se le quitarán los valores atípicos\n",
        "percentile25=y.quantile(0.25)#se usa un porcentaje de 25 como límite inferior\n",
        "percentile75=y.quantile(0.75) #se usa un porcentaje de 25 como límite superior\n",
        "iqr=percentile75 - percentile25 #hace la resta de los límites\n",
        "\n",
        "Limite_Superior_iqr=percentile75+1.5*iqr #mide la dispersión con el limite superior\n",
        "Limite_Inferior_iqr=percentile25-1.5*iqr #mide la dispersión con el limite inferior\n",
        "print(\"Limite superior permitido\", Limite_Superior_iqr)\n",
        "print(\"Limite interior permitido\", Limite_Inferior_iqr)  #muestran los valores de los límites permitidos"
      ],
      "metadata": {
        "colab": {
          "base_uri": "https://localhost:8080/"
        },
        "id": "49HH_BAogIMo",
        "outputId": "f9b51bdf-ac83-42c3-aa48-62b2a8d5b06e"
      },
      "execution_count": 39,
      "outputs": [
        {
          "output_type": "stream",
          "name": "stdout",
          "text": [
            "Limite superior permitido 12.0\n",
            "Limite interior permitido -4.0\n"
          ]
        }
      ]
    },
    {
      "cell_type": "code",
      "source": [
        "#Encontramos outliers del dataframe\n",
        "outliers_iqr=data2[(y>Limite_Superior_iqr)|(y<Limite_Inferior_iqr)]\n",
        "outliers_iqr #encuentra los valores que se salen del rango de los límites"
      ],
      "metadata": {
        "id": "dZBnl7Zlgo_U"
      },
      "execution_count": null,
      "outputs": []
    },
    {
      "cell_type": "code",
      "source": [
        "#Obtenemos datos limpios del DataFrame\n",
        "data3_iqr=data2[(y<=Limite_Superior_iqr)&(y>=Limite_Inferior_iqr)]\n",
        "data3_iqr #genera los datos limpios de la columna sin valores atípicos"
      ],
      "metadata": {
        "id": "j0ypSKPVgssX"
      },
      "execution_count": null,
      "outputs": []
    },
    {
      "cell_type": "code",
      "source": [
        "#Realizamos diagrama de caja o bigote de cada columna del dataframe\n",
        "fig=plt.figure(figsize=(5,3)) #muestra el tamaño de la figura\n",
        "plt.boxplot(data3_iqr[\"number_of_suppliers_in_store\"]) #gráfica la caja con los valores ya dentro de los límites de una columna\n",
        "plt.title(\"Valores atípicos del número proveedores en la tienda\") #titulo de la grafica\n",
        "plt.show() #dibujamos el diagrama"
      ],
      "metadata": {
        "colab": {
          "base_uri": "https://localhost:8080/",
          "height": 227
        },
        "id": "hfUROrCximg6",
        "outputId": "6df0de57-a373-4671-f3aa-7328e862dd0d"
      },
      "execution_count": 42,
      "outputs": [
        {
          "output_type": "display_data",
          "data": {
            "text/plain": [
              "<Figure size 360x216 with 1 Axes>"
            ],
            "image/png": "[encoded data removed]"
          },
          "metadata": {
            "needs_background": "light"
          }
        }
      ]
    },
    {
      "cell_type": "code",
      "source": [
        "#Realizamos una copia del dataframe\n",
        "consumer=data3_iqr.copy()"
      ],
      "metadata": {
        "id": "EgbL9NXPktFN"
      },
      "execution_count": 43,
      "outputs": []
    },
    {
      "cell_type": "markdown",
      "source": [
        "Se hace el mismo procedimiento para todas las columnas con datos atípicos"
      ],
      "metadata": {
        "id": "CCV5ujRHuKLe"
      }
    },
    {
      "cell_type": "code",
      "source": [
        "#Método aplicando Cuartiles. Encuentro cuartiles 0.25 y 0.75 \n",
        "y=data2[\"number_of_suppliers_in_store\"]\n",
        "percentile25=y.quantile(0.25)\n",
        "percentile75=y.quantile(0.75)\n",
        "iqr=percentile75 - percentile25\n",
        "\n",
        "Limite_Superior_iqr=percentile75+1.5*iqr\n",
        "Limite_Inferior_iqr=percentile25-1.5*iqr\n",
        "print(\"Limite superior permitido\", Limite_Superior_iqr)\n",
        "print(\"Limite interior permitido\", Limite_Inferior_iqr)"
      ],
      "metadata": {
        "colab": {
          "base_uri": "https://localhost:8080/"
        },
        "id": "5W-KmN3Kjjwh",
        "outputId": "c84da8ee-8bc5-48eb-ff51-b358ae092d63"
      },
      "execution_count": 44,
      "outputs": [
        {
          "output_type": "stream",
          "name": "stdout",
          "text": [
            "Limite superior permitido 3.5\n",
            "Limite interior permitido -0.5\n"
          ]
        }
      ]
    },
    {
      "cell_type": "code",
      "source": [
        "#Encontramos outliers del dataframe\n",
        "outliers_iqr=data2[(y>Limite_Superior_iqr)|(y<Limite_Inferior_iqr)]\n",
        "outliers_iqr"
      ],
      "metadata": {
        "id": "RWlVbY24kFzb"
      },
      "execution_count": null,
      "outputs": []
    },
    {
      "cell_type": "code",
      "source": [
        "#Obtenemos datos limpios del DataFrame\n",
        "data3_iqr=data2[(y<=Limite_Superior_iqr)&(y>=Limite_Inferior_iqr)]\n",
        "data3_iqr"
      ],
      "metadata": {
        "id": "SnjrnwEykJ1d"
      },
      "execution_count": null,
      "outputs": []
    },
    {
      "cell_type": "code",
      "source": [
        "#Realizamos diagrama de caja o bigote de cada columna del dataframe\n",
        "fig=plt.figure(figsize=(5,3))\n",
        "plt.boxplot(data3_iqr[\"number_of_suppliers_in_store\"])\n",
        "plt.title(\"Valores atípicos del numero de operadores\")\n",
        "plt.show() #dibujamos el diagrama"
      ],
      "metadata": {
        "colab": {
          "base_uri": "https://localhost:8080/",
          "height": 227
        },
        "id": "-Hahg2tMkNIx",
        "outputId": "0d8affdf-d154-42ae-b580-ae41cb6c333b"
      },
      "execution_count": 47,
      "outputs": [
        {
          "output_type": "display_data",
          "data": {
            "text/plain": [
              "<Figure size 360x216 with 1 Axes>"
            ],
            "image/png": "[encoded data removed]"
          },
          "metadata": {
            "needs_background": "light"
          }
        }
      ]
    },
    {
      "cell_type": "code",
      "source": [
        "#Realizamos una copia del dataframe\n",
        "consumer=data3_iqr.copy()"
      ],
      "metadata": {
        "id": "ThFil7UnpRFK"
      },
      "execution_count": 48,
      "outputs": []
    },
    {
      "cell_type": "code",
      "source": [
        "#Método aplicando Cuartiles. Encuentro cuartiles 0.25 y 0.75 \n",
        "y=data2[\"number_of_customers_in_store\"]\n",
        "percentile25=y.quantile(0.25)\n",
        "percentile75=y.quantile(0.75)\n",
        "iqr=percentile75 - percentile25\n",
        "\n",
        "Limite_Superior_iqr=percentile75+1.5*iqr\n",
        "Limite_Inferior_iqr=percentile25-1.5*iqr\n",
        "print(\"Limite superior permitido\", Limite_Superior_iqr)\n",
        "print(\"Limite interior permitido\", Limite_Inferior_iqr)"
      ],
      "metadata": {
        "colab": {
          "base_uri": "https://localhost:8080/"
        },
        "id": "eM02Mf-2p1nT",
        "outputId": "8465e75c-78f5-4c0a-8bc9-d87801c0a677"
      },
      "execution_count": 49,
      "outputs": [
        {
          "output_type": "stream",
          "name": "stdout",
          "text": [
            "Limite superior permitido 5.0\n",
            "Limite interior permitido -3.0\n"
          ]
        }
      ]
    },
    {
      "cell_type": "code",
      "source": [
        "#Encontramos outliers del dataframe\n",
        "outliers_iqr=data2[(y>Limite_Superior_iqr)|(y<Limite_Inferior_iqr)]\n",
        "outliers_iqr"
      ],
      "metadata": {
        "id": "fITIoHwVl-2y"
      },
      "execution_count": null,
      "outputs": []
    },
    {
      "cell_type": "code",
      "source": [
        "#Obtenemos datos limpios del DataFrame\n",
        "data3_iqr=data2[(y<=Limite_Superior_iqr)&(y>=Limite_Inferior_iqr)]\n",
        "data3_iqr"
      ],
      "metadata": {
        "id": "kYSh3VoAmB0f"
      },
      "execution_count": null,
      "outputs": []
    },
    {
      "cell_type": "code",
      "source": [
        "#Realizamos diagrama de caja o bigote de cada columna del dataframe\n",
        "fig=plt.figure(figsize=(5,3))\n",
        "plt.boxplot(data3_iqr[\"number_of_customers_in_store\"])\n",
        "plt.title(\"Valores atípicos del numero de comensales en la tienda\")\n",
        "plt.show() #dibujamos el diagrama"
      ],
      "metadata": {
        "id": "LO-NvdKjmHDR"
      },
      "execution_count": null,
      "outputs": []
    },
    {
      "cell_type": "code",
      "source": [
        "#Realizamos una copia del dataframe\n",
        "consumer=data3_iqr.copy()"
      ],
      "metadata": {
        "id": "VzF4msBxmYou"
      },
      "execution_count": 53,
      "outputs": []
    },
    {
      "cell_type": "code",
      "source": [
        "#Método aplicando Cuartiles. Encuentro cuartiles 0.25 y 0.75 \n",
        "y=data2[\"_edited_duration\"]\n",
        "percentile25=y.quantile(0.25)\n",
        "percentile75=y.quantile(0.75)\n",
        "iqr=percentile75 - percentile25\n",
        "\n",
        "Limite_Superior_iqr=percentile75+1.5*iqr\n",
        "Limite_Inferior_iqr=percentile25-1.5*iqr\n",
        "print(\"Limite superior permitido\", Limite_Superior_iqr)\n",
        "print(\"Limite interior permitido\", Limite_Inferior_iqr)"
      ],
      "metadata": {
        "colab": {
          "base_uri": "https://localhost:8080/"
        },
        "id": "xncNxNTfmY6H",
        "outputId": "12df53e5-940c-4d32-b621-1bfbd5ccf6dd"
      },
      "execution_count": 54,
      "outputs": [
        {
          "output_type": "stream",
          "name": "stdout",
          "text": [
            "Limite superior permitido 172.0\n",
            "Limite interior permitido -32.0\n"
          ]
        }
      ]
    },
    {
      "cell_type": "code",
      "source": [
        "#Encontramos outliers del dataframe\n",
        "outliers_iqr=data2[(y>Limite_Superior_iqr)|(y<Limite_Inferior_iqr)]\n",
        "outliers_iqr"
      ],
      "metadata": {
        "id": "tLVm14VDmZL0"
      },
      "execution_count": null,
      "outputs": []
    },
    {
      "cell_type": "code",
      "source": [
        "#Obtenemos datos limpios del DataFrame\n",
        "data3_iqr=data2[(y<=Limite_Superior_iqr)&(y>=Limite_Inferior_iqr)]\n",
        "data3_iqr"
      ],
      "metadata": {
        "id": "j6LhVGcZmfUV"
      },
      "execution_count": null,
      "outputs": []
    },
    {
      "cell_type": "code",
      "source": [
        "#Realizamos diagrama de caja o bigote de cada columna del dataframe\n",
        "fig=plt.figure(figsize=(5,3))\n",
        "plt.boxplot(data3_iqr[\"_edited_duration\"])\n",
        "plt.title(\"Valores atípicos de la duración de edición\")\n",
        "plt.show() #dibujamos el diagrama"
      ],
      "metadata": {
        "colab": {
          "base_uri": "https://localhost:8080/",
          "height": 227
        },
        "id": "lfzjO89VmjVp",
        "outputId": "8c6ecd50-3f5c-44af-aba2-d04f06bdd213"
      },
      "execution_count": 57,
      "outputs": [
        {
          "output_type": "display_data",
          "data": {
            "text/plain": [
              "<Figure size 360x216 with 1 Axes>"
            ],
            "image/png": "[encoded data removed]"
          },
          "metadata": {
            "needs_background": "light"
          }
        }
      ]
    },
    {
      "cell_type": "code",
      "source": [
        "#Realizamos una copia del dataframe\n",
        "consumer=data3_iqr.copy()"
      ],
      "metadata": {
        "id": "yJ9lWr7Ymwv5"
      },
      "execution_count": 58,
      "outputs": []
    },
    {
      "cell_type": "code",
      "source": [
        "#Método aplicando Cuartiles. Encuentro cuartiles 0.25 y 0.75 \n",
        "y=data2[\"_created_duration\"]\n",
        "percentile25=y.quantile(0.25)\n",
        "percentile75=y.quantile(0.75)\n",
        "iqr=percentile75 - percentile25\n",
        "\n",
        "Limite_Superior_iqr=percentile75+1.5*iqr\n",
        "Limite_Inferior_iqr=percentile25-1.5*iqr\n",
        "print(\"Limite superior permitido\", Limite_Superior_iqr)\n",
        "print(\"Limite interior permitido\", Limite_Inferior_iqr)"
      ],
      "metadata": {
        "colab": {
          "base_uri": "https://localhost:8080/"
        },
        "id": "OKvWyywemw72",
        "outputId": "8fa25b7e-4328-4dcf-ef5e-538147b28343"
      },
      "execution_count": 59,
      "outputs": [
        {
          "output_type": "stream",
          "name": "stdout",
          "text": [
            "Limite superior permitido 0.0\n",
            "Limite interior permitido 0.0\n"
          ]
        }
      ]
    },
    {
      "cell_type": "code",
      "source": [
        "#Encontramos outliers del dataframe\n",
        "outliers_iqr=data2[(y>Limite_Superior_iqr)|(y<Limite_Inferior_iqr)]\n",
        "outliers_iqr"
      ],
      "metadata": {
        "id": "tzBtwm2NmxKL"
      },
      "execution_count": null,
      "outputs": []
    },
    {
      "cell_type": "code",
      "source": [
        "#Obtenemos datos limpios del DataFrame\n",
        "data3_iqr=data2[(y<=Limite_Superior_iqr)&(y>=Limite_Inferior_iqr)]\n",
        "data3_iqr"
      ],
      "metadata": {
        "id": "qbpt01WQmxZC"
      },
      "execution_count": null,
      "outputs": []
    },
    {
      "cell_type": "code",
      "source": [
        "#Realizamos diagrama de caja o bigote de cada columna del dataframe\n",
        "fig=plt.figure(figsize=(5,3))\n",
        "plt.boxplot(data3_iqr[\"_created_duration\"])\n",
        "plt.title(\"Valores atípicos de la duración de edición\")\n",
        "plt.show() #dibujamos el diagrama"
      ],
      "metadata": {
        "id": "x-AbZyLdm5QZ"
      },
      "execution_count": null,
      "outputs": []
    },
    {
      "cell_type": "code",
      "source": [
        "#Realizamos una copia del dataframe\n",
        "consumer=data3_iqr.copy()"
      ],
      "metadata": {
        "id": "4amtr3shnL-x"
      },
      "execution_count": 63,
      "outputs": []
    },
    {
      "cell_type": "markdown",
      "source": [
        "**Convertir DataSet sin valores nulos a CSV**"
      ],
      "metadata": {
        "id": "er1yF_EY7y1r"
      }
    },
    {
      "cell_type": "code",
      "source": [
        "#Convertir DataFrame a CSV\n",
        "data3_iqr.to_csv(\"lastmile_delivery_operations_mit_lift_lab_serving_customer_limpio.csv\")\n",
        "#una vez que se quitaron los valores nulos y los atípicos se convierten a un archivo cvs"
      ],
      "metadata": {
        "id": "qwADplDN70-k"
      },
      "execution_count": 64,
      "outputs": []
    },
    {
      "cell_type": "code",
      "source": [
        "#descargar archivo filtrado en csv\n",
        "from google.colab import files\n",
        "\n",
        "files.download(\"lastmile_delivery_operations_mit_lift_lab_serving_customer_limpio.csv\")\n",
        "#se descarga el documento .csv con los datos limpio"
      ],
      "metadata": {
        "colab": {
          "base_uri": "https://localhost:8080/",
          "height": 34
        },
        "id": "bENrJYV09kFJ",
        "outputId": "fd607e7f-3633-4f5a-dba8-4302c6ab737b"
      },
      "execution_count": null,
      "outputs": [
        {
          "output_type": "display_data",
          "data": {
            "text/plain": [
              "<IPython.core.display.Javascript object>"
            ],
            "application/javascript": [
              "\n",
              "    async function download(id, filename, size) {\n",
              "      if (!google.colab.kernel.accessAllowed) {\n",
              "        return;\n",
              "      }\n",
              "      const div = document.createElement('div');\n",
              "      const label = document.createElement('label');\n",
              "      label.textContent = `Downloading \"${filename}\": `;\n",
              "      div.appendChild(label);\n",
              "      const progress = document.createElement('progress');\n",
              "      progress.max = size;\n",
              "      div.appendChild(progress);\n",
              "      document.body.appendChild(div);\n",
              "\n",
              "      const buffers = [];\n",
              "      let downloaded = 0;\n",
              "\n",
              "      const channel = await google.colab.kernel.comms.open(id);\n",
              "      // Send a message to notify the kernel that we're ready.\n",
              "      channel.send({})\n",
              "\n",
              "      for await (const message of channel.messages) {\n",
              "        // Send a message to notify the kernel that we're ready.\n",
              "        channel.send({})\n",
              "        if (message.buffers) {\n",
              "          for (const buffer of message.buffers) {\n",
              "            buffers.push(buffer);\n",
              "            downloaded += buffer.byteLength;\n",
              "            progress.value = downloaded;\n",
              "          }\n",
              "        }\n",
              "      }\n",
              "      const blob = new Blob(buffers, {type: 'application/binary'});\n",
              "      const a = document.createElement('a');\n",
              "      a.href = window.URL.createObjectURL(blob);\n",
              "      a.download = filename;\n",
              "      div.appendChild(a);\n",
              "      a.click();\n",
              "      div.remove();\n",
              "    }\n",
              "  "
            ]
          },
          "metadata": {}
        },
        {
          "output_type": "display_data",
          "data": {
            "text/plain": [
              "<IPython.core.display.Javascript object>"
            ],
            "application/javascript": [
              "download(\"download_9b0f097f-caeb-4cab-b3e4-4961dbd28c9f\", \"lastmile_delivery_operations_mit_lift_lab_serving_customer_limpio.csv\", 17364)"
            ]
          },
          "metadata": {}
        }
      ]
    }
  ]
}